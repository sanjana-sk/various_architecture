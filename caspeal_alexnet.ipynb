{
  "nbformat": 4,
  "nbformat_minor": 0,
  "metadata": {
    "colab": {
      "name": "caspeal_alexnet.ipynb",
      "provenance": []
    },
    "kernelspec": {
      "name": "python3",
      "display_name": "Python 3"
    }
  },
  "cells": [
    {
      "cell_type": "code",
      "metadata": {
        "id": "axA8-BMksNC7"
      },
      "source": [
        "import keras\r\n",
        "from keras.models import Sequential\r\n",
        "from keras.layers import Dense, Activation, Dropout, Flatten, Conv2D, MaxPooling2D\r\n",
        "from keras.layers.normalization import BatchNormalization\r\n",
        "import numpy as np"
      ],
      "execution_count": 15,
      "outputs": []
    },
    {
      "cell_type": "code",
      "metadata": {
        "id": "8MbzanomsT7K"
      },
      "source": [
        "np.random.seed(1000)"
      ],
      "execution_count": 16,
      "outputs": []
    },
    {
      "cell_type": "code",
      "metadata": {
        "id": "NEK7-aKcsdiE"
      },
      "source": [
        "AlexNet = Sequential()"
      ],
      "execution_count": 17,
      "outputs": []
    },
    {
      "cell_type": "code",
      "metadata": {
        "id": "h3BoCZJksp_H"
      },
      "source": [
        "AlexNet.add(Conv2D(filters=96, input_shape=(150,150,3), kernel_size=(11,11), strides=(4,4), padding='same'))\r\n",
        "AlexNet.add(BatchNormalization())\r\n",
        "AlexNet.add(Activation('relu'))\r\n",
        "AlexNet.add(MaxPooling2D(pool_size=(2,2), strides=(2,2), padding='same'))"
      ],
      "execution_count": 18,
      "outputs": []
    },
    {
      "cell_type": "code",
      "metadata": {
        "id": "PNDZ7_dzs0St"
      },
      "source": [
        "AlexNet.add(Conv2D(filters=256, kernel_size=(5, 5), strides=(1,1), padding='same'))\r\n",
        "AlexNet.add(BatchNormalization())\r\n",
        "AlexNet.add(Activation('relu'))\r\n",
        "AlexNet.add(MaxPooling2D(pool_size=(2,2), strides=(2,2), padding='same'))\r\n"
      ],
      "execution_count": 19,
      "outputs": []
    },
    {
      "cell_type": "code",
      "metadata": {
        "id": "RFnfw35ss-KC"
      },
      "source": [
        "AlexNet.add(Conv2D(filters=384, kernel_size=(3,3), strides=(1,1), padding='same'))\r\n",
        "AlexNet.add(BatchNormalization())\r\n",
        "AlexNet.add(Activation('relu'))"
      ],
      "execution_count": 20,
      "outputs": []
    },
    {
      "cell_type": "code",
      "metadata": {
        "id": "hZ7QBbqFtDJw"
      },
      "source": [
        "AlexNet.add(Conv2D(filters=384, kernel_size=(3,3), strides=(1,1), padding='same'))\r\n",
        "AlexNet.add(BatchNormalization())\r\n",
        "AlexNet.add(Activation('relu'))"
      ],
      "execution_count": 21,
      "outputs": []
    },
    {
      "cell_type": "code",
      "metadata": {
        "id": "twK6NqA2tLHg"
      },
      "source": [
        "AlexNet.add(Conv2D(filters=256, kernel_size=(3,3), strides=(1,1), padding='same'))\r\n",
        "AlexNet.add(BatchNormalization())\r\n",
        "AlexNet.add(Activation('relu'))\r\n",
        "AlexNet.add(MaxPooling2D(pool_size=(2,2), strides=(2,2), padding='same'))"
      ],
      "execution_count": 22,
      "outputs": []
    },
    {
      "cell_type": "code",
      "metadata": {
        "id": "sh0Jt3kptNJt"
      },
      "source": [
        "#Passing it to a Fully Connected layer\r\n",
        "AlexNet.add(Flatten())\r\n",
        "# 1st Fully Connected Layer\r\n",
        "AlexNet.add(Dense(4096, input_shape=(150,150,3,)))\r\n",
        "AlexNet.add(BatchNormalization())\r\n",
        "AlexNet.add(Activation('relu'))\r\n",
        "# Add Dropout to prevent overfitting\r\n",
        "AlexNet.add(Dropout(0.4))"
      ],
      "execution_count": 23,
      "outputs": []
    },
    {
      "cell_type": "code",
      "metadata": {
        "id": "wLtmlmVXtVP7"
      },
      "source": [
        "#2nd Fully Connected Layer\r\n",
        "AlexNet.add(Dense(4096))\r\n",
        "AlexNet.add(BatchNormalization())\r\n",
        "AlexNet.add(Activation('relu'))\r\n",
        "#Add Dropout\r\n",
        "AlexNet.add(Dropout(0.4))"
      ],
      "execution_count": 24,
      "outputs": []
    },
    {
      "cell_type": "code",
      "metadata": {
        "id": "TIv5xcdBtYaP"
      },
      "source": [
        "#3rd Fully Connected Layer\r\n",
        "AlexNet.add(Dense(1000))\r\n",
        "AlexNet.add(BatchNormalization())\r\n",
        "AlexNet.add(Activation('relu'))\r\n",
        "#Add Dropout\r\n",
        "AlexNet.add(Dropout(0.4))"
      ],
      "execution_count": 25,
      "outputs": []
    },
    {
      "cell_type": "code",
      "metadata": {
        "id": "IwsGzPrWtc9e"
      },
      "source": [
        "#Output Layer\r\n",
        "AlexNet.add(Dense(20))\r\n",
        "AlexNet.add(BatchNormalization())\r\n",
        "AlexNet.add(Activation('softmax'))"
      ],
      "execution_count": 26,
      "outputs": []
    },
    {
      "cell_type": "code",
      "metadata": {
        "colab": {
          "base_uri": "https://localhost:8080/"
        },
        "id": "K9s8pqUhtqT_",
        "outputId": "9505cb9d-72a9-4979-c8b5-1c89f7e91ded"
      },
      "source": [
        "#Model Summary\r\n",
        "AlexNet.summary()"
      ],
      "execution_count": 27,
      "outputs": [
        {
          "output_type": "stream",
          "text": [
            "Model: \"sequential_1\"\n",
            "_________________________________________________________________\n",
            "Layer (type)                 Output Shape              Param #   \n",
            "=================================================================\n",
            "conv2d_5 (Conv2D)            (None, 38, 38, 96)        34944     \n",
            "_________________________________________________________________\n",
            "batch_normalization_9 (Batch (None, 38, 38, 96)        384       \n",
            "_________________________________________________________________\n",
            "activation_9 (Activation)    (None, 38, 38, 96)        0         \n",
            "_________________________________________________________________\n",
            "max_pooling2d_3 (MaxPooling2 (None, 19, 19, 96)        0         \n",
            "_________________________________________________________________\n",
            "conv2d_6 (Conv2D)            (None, 19, 19, 256)       614656    \n",
            "_________________________________________________________________\n",
            "batch_normalization_10 (Batc (None, 19, 19, 256)       1024      \n",
            "_________________________________________________________________\n",
            "activation_10 (Activation)   (None, 19, 19, 256)       0         \n",
            "_________________________________________________________________\n",
            "max_pooling2d_4 (MaxPooling2 (None, 10, 10, 256)       0         \n",
            "_________________________________________________________________\n",
            "conv2d_7 (Conv2D)            (None, 10, 10, 384)       885120    \n",
            "_________________________________________________________________\n",
            "batch_normalization_11 (Batc (None, 10, 10, 384)       1536      \n",
            "_________________________________________________________________\n",
            "activation_11 (Activation)   (None, 10, 10, 384)       0         \n",
            "_________________________________________________________________\n",
            "conv2d_8 (Conv2D)            (None, 10, 10, 384)       1327488   \n",
            "_________________________________________________________________\n",
            "batch_normalization_12 (Batc (None, 10, 10, 384)       1536      \n",
            "_________________________________________________________________\n",
            "activation_12 (Activation)   (None, 10, 10, 384)       0         \n",
            "_________________________________________________________________\n",
            "conv2d_9 (Conv2D)            (None, 10, 10, 256)       884992    \n",
            "_________________________________________________________________\n",
            "batch_normalization_13 (Batc (None, 10, 10, 256)       1024      \n",
            "_________________________________________________________________\n",
            "activation_13 (Activation)   (None, 10, 10, 256)       0         \n",
            "_________________________________________________________________\n",
            "max_pooling2d_5 (MaxPooling2 (None, 5, 5, 256)         0         \n",
            "_________________________________________________________________\n",
            "flatten_1 (Flatten)          (None, 6400)              0         \n",
            "_________________________________________________________________\n",
            "dense_4 (Dense)              (None, 4096)              26218496  \n",
            "_________________________________________________________________\n",
            "batch_normalization_14 (Batc (None, 4096)              16384     \n",
            "_________________________________________________________________\n",
            "activation_14 (Activation)   (None, 4096)              0         \n",
            "_________________________________________________________________\n",
            "dropout_3 (Dropout)          (None, 4096)              0         \n",
            "_________________________________________________________________\n",
            "dense_5 (Dense)              (None, 4096)              16781312  \n",
            "_________________________________________________________________\n",
            "batch_normalization_15 (Batc (None, 4096)              16384     \n",
            "_________________________________________________________________\n",
            "activation_15 (Activation)   (None, 4096)              0         \n",
            "_________________________________________________________________\n",
            "dropout_4 (Dropout)          (None, 4096)              0         \n",
            "_________________________________________________________________\n",
            "dense_6 (Dense)              (None, 1000)              4097000   \n",
            "_________________________________________________________________\n",
            "batch_normalization_16 (Batc (None, 1000)              4000      \n",
            "_________________________________________________________________\n",
            "activation_16 (Activation)   (None, 1000)              0         \n",
            "_________________________________________________________________\n",
            "dropout_5 (Dropout)          (None, 1000)              0         \n",
            "_________________________________________________________________\n",
            "dense_7 (Dense)              (None, 20)                20020     \n",
            "_________________________________________________________________\n",
            "batch_normalization_17 (Batc (None, 20)                80        \n",
            "_________________________________________________________________\n",
            "activation_17 (Activation)   (None, 20)                0         \n",
            "=================================================================\n",
            "Total params: 50,906,380\n",
            "Trainable params: 50,885,204\n",
            "Non-trainable params: 21,176\n",
            "_________________________________________________________________\n"
          ],
          "name": "stdout"
        }
      ]
    },
    {
      "cell_type": "code",
      "metadata": {
        "id": "PemdmWnRtzuR"
      },
      "source": [
        "# Compiling the model\r\n",
        "AlexNet.compile(loss = keras.losses.categorical_crossentropy, optimizer= 'adam', metrics=['accuracy'])"
      ],
      "execution_count": 28,
      "outputs": []
    },
    {
      "cell_type": "code",
      "metadata": {
        "colab": {
          "base_uri": "https://localhost:8080/"
        },
        "id": "4uBglZWis644",
        "outputId": "ac33d84a-2872-4db4-814b-c853057eb567"
      },
      "source": [
        "#Accessing dataset from google drive\r\n",
        "from google.colab import drive \r\n",
        "drive.mount('/mntDrive')\r\n",
        "dataPath='/mntDrive/My Drive/cas_peal/'\r\n",
        "train_dir = dataPath+'train'\r\n",
        "val_dir = dataPath+'test'"
      ],
      "execution_count": 30,
      "outputs": [
        {
          "output_type": "stream",
          "text": [
            "Drive already mounted at /mntDrive; to attempt to forcibly remount, call drive.mount(\"/mntDrive\", force_remount=True).\n"
          ],
          "name": "stdout"
        }
      ]
    },
    {
      "cell_type": "code",
      "metadata": {
        "colab": {
          "base_uri": "https://localhost:8080/"
        },
        "id": "1uKsKh_Etc8i",
        "outputId": "6536dd1b-dd8c-4426-dcf4-67147657467b"
      },
      "source": [
        "from keras.preprocessing.image import ImageDataGenerator\r\n",
        "# All images will be rescaled by 1./255\r\n",
        "train_datagen = ImageDataGenerator(rescale=1./255)\r\n",
        "test_datagen = ImageDataGenerator(rescale=1./255)\r\n",
        "train_generator = train_datagen.flow_from_directory(\r\n",
        "                # This is the target directory\r\n",
        "                train_dir,\r\n",
        "                # All images will be resized to 150x150\r\n",
        "                target_size=(150, 150),\r\n",
        "                batch_size=20,\r\n",
        "              class_mode='categorical')\r\n",
        "validation_generator = test_datagen.flow_from_directory(\r\n",
        "                val_dir,\r\n",
        "                target_size=(150, 150),\r\n",
        "                batch_size=20,\r\n",
        "                class_mode='categorical')"
      ],
      "execution_count": 31,
      "outputs": [
        {
          "output_type": "stream",
          "text": [
            "Found 639 images belonging to 20 classes.\n",
            "Found 60 images belonging to 20 classes.\n"
          ],
          "name": "stdout"
        }
      ]
    },
    {
      "cell_type": "code",
      "metadata": {
        "colab": {
          "base_uri": "https://localhost:8080/"
        },
        "id": "tXyKWT4Otqv4",
        "outputId": "3927cb20-c501-487e-93b8-3bfb34948b44"
      },
      "source": [
        "for data_batch, labels_batch in validation_generator:\r\n",
        "    print('data batch shape:', data_batch.shape)\r\n",
        "    print('labels batch shape:', labels_batch.shape)\r\n",
        "    break"
      ],
      "execution_count": 32,
      "outputs": [
        {
          "output_type": "stream",
          "text": [
            "data batch shape: (20, 150, 150, 3)\n",
            "labels batch shape: (20, 20)\n"
          ],
          "name": "stdout"
        }
      ]
    },
    {
      "cell_type": "code",
      "metadata": {
        "colab": {
          "base_uri": "https://localhost:8080/"
        },
        "id": "GE_bR7PXvWkm",
        "outputId": "e4e84f5e-80a7-4d08-fb74-b023d57eeb22"
      },
      "source": [
        "history = AlexNet.fit_generator(\r\n",
        "train_generator,\r\n",
        "epochs=5,\r\n",
        "validation_data=validation_generator)"
      ],
      "execution_count": 38,
      "outputs": [
        {
          "output_type": "stream",
          "text": [
            "/usr/local/lib/python3.6/dist-packages/tensorflow/python/keras/engine/training.py:1844: UserWarning: `Model.fit_generator` is deprecated and will be removed in a future version. Please use `Model.fit`, which supports generators.\n",
            "  warnings.warn('`Model.fit_generator` is deprecated and '\n"
          ],
          "name": "stderr"
        },
        {
          "output_type": "stream",
          "text": [
            "Epoch 1/5\n",
            "32/32 [==============================] - 209s 6s/step - loss: 2.5740 - accuracy: 0.2576 - val_loss: 65.8195 - val_accuracy: 0.0500\n",
            "Epoch 2/5\n",
            "32/32 [==============================] - 65s 2s/step - loss: 1.4862 - accuracy: 0.6256 - val_loss: 8.3055 - val_accuracy: 0.1167\n",
            "Epoch 3/5\n",
            "32/32 [==============================] - 65s 2s/step - loss: 1.1313 - accuracy: 0.7652 - val_loss: 2.4253 - val_accuracy: 0.3333\n",
            "Epoch 4/5\n",
            "32/32 [==============================] - 65s 2s/step - loss: 1.0280 - accuracy: 0.8040 - val_loss: 2.6162 - val_accuracy: 0.2667\n",
            "Epoch 5/5\n",
            "32/32 [==============================] - 65s 2s/step - loss: 0.8638 - accuracy: 0.8833 - val_loss: 2.7643 - val_accuracy: 0.1833\n"
          ],
          "name": "stdout"
        }
      ]
    }
  ]
}